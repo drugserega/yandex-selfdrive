{
 "cells": [
  {
   "cell_type": "code",
   "execution_count": 305,
   "metadata": {
    "collapsed": true
   },
   "outputs": [],
   "source": [
    "import numpy as np\n",
    "import matplotlib.pyplot as plt\n",
    "import pandas as pd\n",
    "import json\n",
    "import urllib.request as ul\n",
    "from datetime import timedelta, datetime, tzinfo, timezone\n",
    "from struct import pack, unpack\n",
    "import pytz"
   ]
  },
  {
   "cell_type": "code",
   "execution_count": 251,
   "metadata": {},
   "outputs": [],
   "source": [
    "# f=open(\"data\", \"r\")\n",
    "target_url = 'https://sdcimages.s3.yandex.net/test_task/data'\n",
    "\n",
    "# where to put data\n",
    "pilot_ts = []\n",
    "pilot_switch= []\n",
    "geo_ts = []\n",
    "geo_lon = []\n",
    "geo_lat = []\n",
    "\n",
    "data = ul.urlopen(target_url)\n",
    "lines = data.readlines()\n",
    "\n",
    "\n",
    "idx1 = 0\n",
    "idx2 = 0\n",
    "# for idx, entry in enumerate(entries):\n",
    "\n",
    "for line in lines:\n",
    " idx1 +=1\n",
    "#  f1 = data.readline()\n",
    "\n",
    " js1 = json.loads(line) \n",
    "\n",
    " if 'geo' not in js1:\n",
    "  pilot_ts.append(js1['ts']) \n",
    "  pilot_switch.append(js1['control_switch_on'])\n",
    " \n",
    " else:   \n",
    "  geo_ts.append(js1['ts'])\n",
    "  geo_lat.append(js1['geo']['lat'])\n",
    "  geo_lon.append(js1['geo']['lon'])\n",
    "\n",
    "  "
   ]
  },
  {
   "cell_type": "code",
   "execution_count": 332,
   "metadata": {},
   "outputs": [
    {
     "data": {
      "text/plain": [
       "55884"
      ]
     },
     "execution_count": 332,
     "metadata": {},
     "output_type": "execute_result"
    }
   ],
   "source": [
    "# sick_timestamp_to_datetime(pilot_ts[0])\n",
    "# datetime.fromtimestamp(1523443804214, timezone.utc)\n",
    "d = datetime.fromtimestamp(pilot_ts[100]/1e9, tz=pytz.timezone('US/Pacific'))\n",
    "day = d.day"
   ]
  },
  {
   "cell_type": "code",
   "execution_count": null,
   "metadata": {
    "collapsed": true
   },
   "outputs": [],
   "source": []
  }
 ],
 "metadata": {
  "kernelspec": {
   "display_name": "Python 3",
   "language": "python",
   "name": "python3"
  },
  "language_info": {
   "codemirror_mode": {
    "name": "ipython",
    "version": 3
   },
   "file_extension": ".py",
   "mimetype": "text/x-python",
   "name": "python",
   "nbconvert_exporter": "python",
   "pygments_lexer": "ipython3",
   "version": "3.7.6"
  }
 },
 "nbformat": 4,
 "nbformat_minor": 2
}
